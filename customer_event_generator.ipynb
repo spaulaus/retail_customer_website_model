{
 "cells": [
  {
   "cell_type": "markdown",
   "metadata": {
    "collapsed": true,
    "pycharm": {
     "name": "#%% md\n"
    }
   },
   "source": [
    "# Generating Customer Event Data \n",
    "## Imports"
   ]
  },
  {
   "cell_type": "code",
   "execution_count": null,
   "outputs": [],
   "source": [
    "from random import uniform, choice, choices"
   ],
   "metadata": {
    "collapsed": false,
    "pycharm": {
     "name": "#%%\n"
    }
   }
  },
  {
   "cell_type": "markdown",
   "source": [
    "## Conversion Rates\n",
    "Found [this](https://www.quora.com/How-many-times-does-a-customer-visit-a-website-before-making-a-purchase)\n",
    "interesting data about the number of visits that users typically have before a conversion on an \n",
    "ecommerce site. \n",
    "* 73% of conversions occur on the first visit\n",
    "* 14% of conversions occur on the second visit\n",
    "* 5% of conversions occur on the third visit\n",
    "* The average conversion rate for these sites was 1.9%\n",
    "\n",
    "I also found [this](https://www.statista.com/topics/871/online-shopping/) site listing the average \n",
    "conversion rate across all verticals at 2.72\\% for 2018 - 2019. We'll use that as our conversion rate\n",
    "for now."
   ],
   "metadata": {
    "collapsed": false
   }
  },
  {
   "cell_type": "code",
   "execution_count": null,
   "outputs": [],
   "source": [
    "CONVERSION_RATE = 0.0272\n",
    "\n",
    "def touches_before_conversion(num_to_generate=1):\n",
    "    yield choices([1, 2, 3], [73, 14, 5], k=num_to_generate)\n",
    "\n",
    "def is_conversion():\n",
    "    yield uniform(0, 1) < CONVERSION_RATE\n",
    "\n",
    "for num_touches in touches_before_conversion():\n",
    "    print(num_touches)"
   ],
   "metadata": {
    "collapsed": false,
    "pycharm": {
     "name": "#%%\n"
    }
   }
  },
  {
   "cell_type": "markdown",
   "source": [
    "## Time distribution within an event chain\n",
    "We typically use Poisson distributions to model events within an event chain. Not sure that we're \n",
    "going to need one in this case, but I make a note of it here. \n",
    "We'll have to install numpy to get that working, it's not part of the standard library. \n",
    "\n",
    "I found [this](https://neilpatel.com/blog/8-important-ecommerce-stats/) blog post talking about some\n",
    "time statistics on websites. Looking at point 5 we can summarize these numbers:\n",
    "* New users \n",
    "    * Average of 151 s on the site\n",
    "    * View an average of 3.88 pages\n",
    "* Old Users\n",
    "    * Average 331 s on the site\n",
    "    * View an average of 5.55 pages "
   ],
   "metadata": {
    "collapsed": false
   }
  },
  {
   "cell_type": "code",
   "execution_count": null,
   "outputs": [],
   "source": [],
   "metadata": {
    "collapsed": false,
    "pycharm": {
     "name": "#%%\n"
    }
   }
  },
  {
   "cell_type": "markdown",
   "source": [
    "## Types of event chains\n",
    "We'll have several different event chains that we will want to model.\n",
    "\n",
    "| Type         | Chain                                |\n",
    "|--------------|--------------------------------------|\n",
    "| Search       | Search -> Page View                  |\n",
    "| View         | N Page Views                         |\n",
    "| Conversion   | N Page Views -> Cart Add -> Checkout |\n",
    "| Cart Abandon | N Page Views -> Cart Add -> No Checkout within X days |\n",
    "\n",
    "These should cover most scenarios for now. We will need to ensure that these follow a logical \n",
    "time flow. \n",
    "\n",
    "## Generation Workflow\n",
    "1. Did we convert?\n",
    "    1. YES!\n",
    "        1. How many touch points?\n",
    "        2. What were our touch points leading up to the conversion? Choose [Search, NView]\n",
    "        3. Generate conversion touch point.\n",
    "    2. NO :(\n",
    "        1. What type of touch point? Choose [Search, NView, Abandon]\n",
    "\n"
   ],
   "metadata": {
    "collapsed": false
   }
  }
 ],
 "metadata": {
  "kernelspec": {
   "display_name": "Python 3",
   "language": "python",
   "name": "python3"
  },
  "language_info": {
   "codemirror_mode": {
    "name": "ipython",
    "version": 2
   },
   "file_extension": ".py",
   "mimetype": "text/x-python",
   "name": "python",
   "nbconvert_exporter": "python",
   "pygments_lexer": "ipython2",
   "version": "2.7.6"
  },
  "pycharm": {
   "stem_cell": {
    "cell_type": "raw",
    "source": [],
    "metadata": {
     "collapsed": false
    }
   }
  }
 },
 "nbformat": 4,
 "nbformat_minor": 0
}